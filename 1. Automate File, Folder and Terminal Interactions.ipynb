
  {
   "cell_type": "code",
   "execution_count": null,
   "metadata": {},
   "outputs": [],
   "source": [
    "#ORGANIZING DIRECTORIES\n",
    "import os\n",
    "from pathlib import Path\n",
    "SUBDIRECTORIES = {\n",
    "    \"DOCUMENTS\": ['.pdf','.rtf','.txt'],\n",
    "    \"AUDIO\": ['.m4a','.m4b','.mp3'],\n",
    "    \"VIDEOS\": ['.mov','.avi','.mp4'],\n",
    "    \"IMAGES\": ['.jpg','.jpeg','.png']\n",
    "}\n",
    "\n",
    "def pickDirectory(value):\n",
    "    for category,suffixes in SUBDIRECTORIES.items():\n",
    "        for suffix in suffixes:\n",
    "            if suffix == value:\n",
    "                return category\n",
    "    return 'MISC'\n",
    "print(pickDirectory('.pdf'))\n",
    "\n",
    "def organizeDirectory():\n",
    "    for item in os.scandir():\n",
    "        if item.is_dir():\n",
    "            continue\n",
    "        filePath = Path(item)\n",
    "        filetype = filePath.suffix.lower()\n",
    "        directory = pickDirectory(filetype)\n",
    "        directoryPath = Path(directory)\n",
    "        if directoryPath.is_dir() != True:\n",
    "            directoryPath.mkdir()\n",
    "        filePath.rename(directoryPath.joinpath(filePath))\n",
    "\n",
    "organizeDirectory()"
   ]
  }
 ],
 "metadata": {
  "kernelspec": {
   "display_name": "Python 3",
   "language": "python",
   "name": "python3"
  },
  "language_info": {
   "codemirror_mode": {
    "name": "ipython",
    "version": 3
   },
   "file_extension": ".py",
   "mimetype": "text/x-python",
   "name": "python",
   "nbconvert_exporter": "python",
   "pygments_lexer": "ipython3",
   "version": "3.7.0"
  }
 },
 "nbformat": 4,
 "nbformat_minor": 2
}
