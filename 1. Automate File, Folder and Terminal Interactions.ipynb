{
 "cells": [
  {
   "cell_type": "code",
   "execution_count": null,
   "metadata": {},
   "outputs": [],
   "source": [
    "#STEP 1. READING FILES\n",
    "\n",
    "#Step1. For Loop that prints every line with a numerical identifier\n",
    "f = open('inputfile.txt','r')\n",
    "count = 0 \n",
    "for line in f:\n",
    "    print(str(count)+line)\n",
    "    count = count + 1\n",
    "f = open('inputfile.txt','r')\n",
    "for line in f:\n",
    "    line_split = line.split() \n",
    "    if line_split[2] == 'P':\n",
    "        print(line)\n",
    "f.close() #close file after reading it."
   ]
  },
  {
   "cell_type": "code",
   "execution_count": null,
   "metadata": {},
   "outputs": [],
   "source": [
    "#STEP 2. WRITING FILES\n",
    "f = open('inputfile.txt','r')\n",
    "passFile = open('passFile.txt','w') #'P' files\n",
    "failFile = open('failFile.txt','w') #'F' files\n",
    "for line in f:\n",
    "    line_split = line.split() \n",
    "    if line_split[2] == 'P':\n",
    "        passFile.write(line)\n",
    "    else:\n",
    "        failFile.write(line)\n",
    "f.close() #close file after reading it.\n",
    "passFile.close()\n",
    "failFile.close()"
   ]
  },
  {
   "cell_type": "code",
   "execution_count": null,
   "metadata": {},
   "outputs": [],
   "source": [
    "#ORGANIZING DIRECTORIES\n",
    "import os\n",
    "from pathlib import Path\n",
    "SUBDIRECTORIES = {\n",
    "    \"DOCUMENTS\": ['.pdf','.rtf','.txt'],\n",
    "    \"AUDIO\": ['.m4a','.m4b','.mp3'],\n",
    "    \"VIDEOS\": ['.mov','.avi','.mp4'],\n",
    "    \"IMAGES\": ['.jpg','.jpeg','.png']\n",
    "}\n",
    "\n",
    "def pickDirectory(value):\n",
    "    for category,suffixes in SUBDIRECTORIES.items():\n",
    "        for suffix in suffixes:\n",
    "            if suffix == value:\n",
    "                return category\n",
    "    return 'MISC'\n",
    "print(pickDirectory('.pdf'))\n",
    "\n",
    "def organizeDirectory():\n",
    "    for item in os.scandir():\n",
    "        if item.is_dir():\n",
    "            continue\n",
    "        filePath = Path(item)\n",
    "        filetype = filePath.suffix.lower()\n",
    "        directory = pickDirectory(filetype)\n",
    "        directoryPath = Path(directory)\n",
    "        if directoryPath.is_dir() != True:\n",
    "            directoryPath.mkdir()\n",
    "        filePath.rename(directoryPath.joinpath(filePath))\n",
    "\n",
    "organizeDirectory()"
   ]
  }
 ],
 "metadata": {
  "kernelspec": {
   "display_name": "Python 3",
   "language": "python",
   "name": "python3"
  },
  "language_info": {
   "codemirror_mode": {
    "name": "ipython",
    "version": 3
   },
   "file_extension": ".py",
   "mimetype": "text/x-python",
   "name": "python",
   "nbconvert_exporter": "python",
   "pygments_lexer": "ipython3",
   "version": "3.7.0"
  }
 },
 "nbformat": 4,
 "nbformat_minor": 2
}
