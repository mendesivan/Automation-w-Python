{
 "cells": [
  {
   "cell_type": "code",
   "execution_count": 1,
   "metadata": {},
   "outputs": [
    {
     "name": "stdout",
     "output_type": "stream",
     "text": [
      "Some Results: 
      "28 ) Price: $24.99, Item Name: Short Dress\n",
      "29 ) Price: $29.99, Item Name: Patterned Slacks\n",
      "30 ) Price: $49.99, Item Name: Short Chiffon Dress\n",
      "31 ) Price: $59.99, Item Name: Off-the-shoulder Dress\n",
      "32 ) Price: $24.99, Item Name: V-neck Top\n",
      "33 ) Price: $49.99, Item Name: Short Chiffon Dress\n",
      "34 ) Price: $24.99, Item Name: V-neck Top\n",
      "35 ) Price: $24.99, Item Name: V-neck Top\n",
      "36 ) Price: $59.99, Item Name: Short Lace Dress\n",
      "37 ) Price: $24.99, Item Name: Short Dress\n",
      "38 ) Price: $29.99, Item Name: Patterned Slacks\n",
      "39 ) Price: $49.99, Item Name: Short Chiffon Dress\n",
      "40 ) Price: $59.99, Item Name: Off-the-shoulder Dress\n",
      "41 ) Price: $24.99, Item Name: V-neck Top\n",
      "42 ) Price: $49.99, Item Name: Short Chiffon Dress\n",
      "43 ) Price: $24.99, Item Name: V-neck Top\n",
      "44 ) Price: $24.99, Item Name: V-neck Top\n",
      "45 ) Price: $59.99, Item Name: Short Lace Dress\n",
      "46 ) Price: $24.99, Item Name: Short Dress\n",
      "47 ) Price: $29.99, Item Name: Patterned Slacks\n",
      "48 ) Price: $49.99, Item Name: Short Chiffon Dress\n",
      "49 ) Price: $59.99, Item Name: Off-the-shoulder Dress\n",
      "50 ) Price: $24.99, Item Name: V-neck Top\n",
      "51 ) Price: $49.99, Item Name: Short Chiffon Dress\n",
      "52 ) Price: $24.99, Item Name: V-neck Top\n",
      "53 ) Price: $24.99, Item Name: V-neck Top\n",
      "54 ) Price: $59.99, Item Name: Short Lace Dress\n"
     ]
    }
   ],
   "source": [
    "from bs4 import BeautifulSoup\n",
    "import requests\n",
    "url = 'https://scrapingclub.com/exercise/list_basic/?page=1'\n",
    "response = requests.get(url)\n",
    "soup = BeautifulSoup(response.text,'lxml')\n",
    "\n",
    "items = soup.find_all('div',class_='col-lg-4 col-md-6 mb-4')\n",
    "\n",
    "#for loop (iterate through the site)\n",
    "\n",
    "count = 1\n",
    "for i in items:\n",
    "    itemName = i.find('h4',class_='card-title').text.strip('\\n')\n",
    "    itemPrice = i.find('h5').text\n",
    "    print('%s ) Price: %s, Item Name: %s'%(count, itemPrice, itemName))\n",
    "    count = count + 1\n",
    "pages = soup.find('ul',class_='pagination')\n",
    "urls=[]\n",
    "links = pages.find_all('a',class_='page-link')\n",
    "for link in links:\n",
    "    pageNum = int(link.text) if link.text.isdigit() else None\n",
    "    if pageNum != None:\n",
    "        x = link.get('href')\n",
    "        urls.append(x)\n",
    "print(urls)\n",
    "\n",
    "#Scrape each webpage\n",
    "count = 1\n",
    "for i in urls:\n",
    "    newUrl = url + i\n",
    "    response = requests.get(newUrl)\n",
    "    soup = BeautifulSoup(response.text,'lxml') #This line and below came from above. Copy and paste.\n",
    "\n",
    "    items = soup.find_all('div',class_='col-lg-4 col-md-6 mb-4')\n",
    "\n",
    "    for i in items:\n",
    "        itemName = i.find('h4',class_='card-title').text.strip('\\n')\n",
    "        itemPrice = i.find('h5').text\n",
    "        print('%s ) Price: %s, Item Name: %s'%(count, itemPrice, itemName))\n",
    "        count = count + 1"
   ]
  }
 ],
 "metadata": {
  "kernelspec": {
   "display_name": "Python 3",
   "language": "python",
   "name": "python3"
  },
  "language_info": {
   "codemirror_mode": {
    "name": "ipython",
    "version": 3
   },
   "file_extension": ".py",
   "mimetype": "text/x-python",
   "name": "python",
   "nbconvert_exporter": "python",
   "pygments_lexer": "ipython3",
   "version": "3.7.0"
  }
 },
 "nbformat": 4,
 "nbformat_minor": 2
}
