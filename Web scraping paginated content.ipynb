{
 "cells": [
  {
   "cell_type": "code",
   "execution_count": 1,
   "metadata": {},
   "source": [
    "from bs4 import BeautifulSoup\n",
    "import requests\n",
    "url = 'https://scrapingclub.com/exercise/list_basic/?page=1'\n",
    "response = requests.get(url)\n",
    "soup = BeautifulSoup(response.text,'lxml')\n",
    "\n",
    "items = soup.find_all('div',class_='col-lg-4 col-md-6 mb-4')\n",
    "\n",
    "#for loop (iterate through the site)\n",
    "\n",
    "count = 1\n",
    "for i in items:\n",
    "    itemName = i.find('h4',class_='card-title').text.strip('\\n')\n",
    "    itemPrice = i.find('h5').text\n",
    "    print('%s ) Price: %s, Item Name: %s'%(count, itemPrice, itemName))\n",
    "    count = count + 1\n",
    "pages = soup.find('ul',class_='pagination')\n",
    "urls=[]\n",
    "links = pages.find_all('a',class_='page-link')\n",
    "for link in links:\n",
    "    pageNum = int(link.text) if link.text.isdigit() else None\n",
    "    if pageNum != None:\n",
    "        x = link.get('href')\n",
    "        urls.append(x)\n",
    "print(urls)\n",
    "\n",
    "#Scrape each webpage\n",
    "count = 1\n",
    "for i in urls:\n",
    "    newUrl = url + i\n",
    "    response = requests.get(newUrl)\n",
    "    soup = BeautifulSoup(response.text,'lxml') #This line and below came from above. Copy and paste.\n",
    "\n",
    "    items = soup.find_all('div',class_='col-lg-4 col-md-6 mb-4')\n",
    "\n",
    "    for i in items:\n",
    "        itemName = i.find('h4',class_='card-title').text.strip('\\n')\n",
    "        itemPrice = i.find('h5').text\n",
    "        print('%s ) Price: %s, Item Name: %s'%(count, itemPrice, itemName))\n",
    "        count = count + 1"
   ]
  }
 ],
 "metadata": {
  "kernelspec": {
   "display_name": "Python 3",
   "language": "python",
   "name": "python3"
  },
  "language_info": {
   "codemirror_mode": {
    "name": "ipython",
    "version": 3
   },
   "file_extension": ".py",
   "mimetype": "text/x-python",
   "name": "python",
   "nbconvert_exporter": "python",
   "pygments_lexer": "ipython3",
   "version": "3.7.0"
  }
 },
 "nbformat": 4,
 "nbformat_minor": 2
}
