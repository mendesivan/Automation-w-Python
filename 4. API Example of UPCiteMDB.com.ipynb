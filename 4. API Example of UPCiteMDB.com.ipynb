{
 "cells": [
  {
   "cell_type": "code",
   "execution_count": null,
   "metadata": {},
   "outputs": [],
   "source": [
    "#APIs\n",
    "print(\"\"\"An Application Programming Interface (API) enables developers to create repetitive but highly sophisticated software with minimal code.\n",
    "APIs:\n",
    "a) Prepackaged functionality that developers can drop into their code.\n",
    "b) No overhead cost to develop.\n",
    "\n",
    "EX: Mapping softwares...like Google maps.\n",
    "\n",
    "An API acts as an intermediary for two pieces of software.\n",
    "\n",
    "How an API works:\n",
    "a) Get Query sent to API with parameters (install on python as: pip install requests...utilizing the requests gateway.)\n",
    "b) API returns JSON response (primary format which data is passed back and forth between API servers).\"\"\")\n",
    "\n"
   ]
  },
  {
   "cell_type": "code",
   "execution_count": null,
   "metadata": {},
   "outputs": [],
   "source": [
    "#Code (using UPCitemdb.com)\n",
    "import requests\n",
    "import json\n",
    "baseURL = 'https://api.upcitemdb.com/prod/trial/lookup'\n",
    "paramaters = {'upc': '073366118238'}\n",
    "response = requests.get(baseURL, params=paramaters)\n",
    "print(response.url)\n",
    "\n",
    "#parsing through JSON\n",
    "content = response.content\n",
    "info = json.loads(content)\n",
    "print(type(info)) #class 'dict' \n",
    "#print(info)\n",
    "item = info['items']\n",
    "itemInfo=item[0] #first item in JSON \n",
    "title = itemInfo['title']\n",
    "desc = itemInfo['description']\n",
    "category = itemInfo['category']\n",
    "brand = itemInfo['brand']\n",
    "print(brand)\n",
    "print(title)\n",
    "print(\"CATEGORY-->\",category)"
   ]
  }
 ],
 "metadata": {
  "kernelspec": {
   "display_name": "Python 3",
   "language": "python",
   "name": "python3"
  },
  "language_info": {
   "codemirror_mode": {
    "name": "ipython",
    "version": 3
   },
   "file_extension": ".py",
   "mimetype": "text/x-python",
   "name": "python",
   "nbconvert_exporter": "python",
   "pygments_lexer": "ipython3",
   "version": "3.7.0"
  }
 },
 "nbformat": 4,
 "nbformat_minor": 2
}
