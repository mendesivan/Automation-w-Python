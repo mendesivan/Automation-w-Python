{
 "cells": [
  {
   "cell_type": "code",
   "execution_count": null,
   "metadata": {},
   "outputs": [],
   "source": [
    "#Web Scraping with BeautifulSoup\n",
    "from bs4 import BeautifulSoup\n",
    "import lxml\n",
    "import requests\n",
    "\n",
    "url = 'http://quotes.toscrape.com/'\n",
    "\n",
    "response = requests.get(url)\n",
    "soup = BeautifulSoup(response.text,'lxml')\n",
    "quotes = soup.find_all('span',class_='text')\n",
    "authors = soup.find_all('small',class_='author')\n",
    "tags = soup.find_all('div',class_='tags')\n",
    "\n",
    "for i in range(0,len(quotes)):\n",
    "    print(quotes[i].text)\n",
    "    print(authors[i].text)\n",
    "    quoteTags = tags[i].find_all('a',class_='tag')\n",
    "    for quoteTag in quoteTags:\n",
    "        print(quoteTag.text)"
   ]
  }
 ],
 "metadata": {
  "kernelspec": {
   "display_name": "Python 3",
   "language": "python",
   "name": "python3"
  },
  "language_info": {
   "codemirror_mode": {
    "name": "ipython",
    "version": 3
   },
   "file_extension": ".py",
   "mimetype": "text/x-python",
   "name": "python",
   "nbconvert_exporter": "python",
   "pygments_lexer": "ipython3",
   "version": "3.7.0"
  }
 },
 "nbformat": 4,
 "nbformat_minor": 2
}
